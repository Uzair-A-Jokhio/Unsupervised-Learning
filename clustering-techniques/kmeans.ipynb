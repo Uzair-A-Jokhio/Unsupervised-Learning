{
 "cells": [
  {
   "cell_type": "markdown",
   "metadata": {},
   "source": [
    "### Importing Libraries\n",
    "\n",
    "In this notebook, we have imported the following libraries:\n",
    "\n",
    "- **pandas**: A powerful library for data manipulation and analysis.\n",
    "- **sklearn**: A machine learning library that provides simple and efficient tools for data mining and analysis.\n",
    "- **matplotlib.pyplot**: A plotting library used for creating static, interactive, and animated visualizations in Python.\n",
    "\n",
    "These libraries are essential for handling data, building machine learning models, and visualizing results."
   ]
  },
  {
   "cell_type": "code",
   "execution_count": 4,
   "metadata": {},
   "outputs": [],
   "source": [
    "import pandas as pd\n",
    "import matplotlib.pyplot as plt\n",
    "from sklearn.cluster import KMeans\n",
    "from sklearn.preprocessing import StandardScaler"
   ]
  },
  {
   "cell_type": "markdown",
   "metadata": {},
   "source": [
    "### Loading the Dataset\n",
    "\n",
    "In this notebook, we have created a sample dataset containing two features: **Annual Income** and **Spending Score**. This dataset simulates customer data, where:\n",
    "\n",
    "- **Annual Income** Annual income of the customer in thousands.\n",
    "- **Spending Score**  A score assigned based on customer behavior, from 1 (low) to 100 (high).\n",
    "\n",
    "The dataset includes 44 entries, with some outliers added to simulate real-world scenarios. The data is stored in a pandas DataFrame named `df`, which allows for easy manipulation and analysis."
   ]
  },
  {
   "cell_type": "code",
   "execution_count": 5,
   "metadata": {},
   "outputs": [
    {
     "name": "stdout",
     "output_type": "stream",
     "text": [
      "   AnnualIncome  SpendingScore\n",
      "0          15.0             39\n",
      "1          15.5             42\n",
      "2          16.0             45\n",
      "3          16.5             48\n",
      "4          17.0             51\n"
     ]
    }
   ],
   "source": [
    "# Create a sample dataset with customer annual income and spending score\n",
    "data = {'AnnualIncome': [\n",
    "        15, 15.5, 16, 16.5, 17, 17.5, 18, 18.5, 19, 19.5, \n",
    "        20, 20.5, 21, 21.5, 22, 22.5, 23, 23.5, 24, 24.5, \n",
    "        25, 25.5, 26, 26.5, 27, 27.5, 28, 28.5, 29, 29.5, \n",
    "        30, 30.5, 31, 31.5, 32, 32.5, 33, 33.5, 34, 34.5, \n",
    "        35,   # Normal points\n",
    "        80, 85, 90  # Outliers\n",
    "    ],\n",
    "    'SpendingScore': [\n",
    "        39, 42, 45, 48, 51, 54, 57, 60, 63, 66,\n",
    "        69, 72, 75, 78, 81, 84, 87, 90, 93, 96,\n",
    "        6, 9, 12, 15, 18, 21, 24, 27, 30, 33,\n",
    "        5, 8, 11, 14, 17, 20, 23, 26, 29, 32,\n",
    "        56,   # Normal points\n",
    "        2, 3, 100  # Outliers\n",
    "    ]}\n",
    "\n",
    "df = pd.DataFrame(data)\n",
    "\n",
    "# Display the first few rows of the dataset\n",
    "print(df.head())"
   ]
  },
  {
   "cell_type": "markdown",
   "metadata": {},
   "source": [
    "###  Preprocessing  the data\n",
    "Clustering algorithms are sensitive to the scale of the features, so it’s essential to normalize the data. We’ll use StandardScaler to scale the features."
   ]
  },
  {
   "cell_type": "code",
   "execution_count": 8,
   "metadata": {},
   "outputs": [
    {
     "data": {
      "text/html": [
       "<div>\n",
       "<style scoped>\n",
       "    .dataframe tbody tr th:only-of-type {\n",
       "        vertical-align: middle;\n",
       "    }\n",
       "\n",
       "    .dataframe tbody tr th {\n",
       "        vertical-align: top;\n",
       "    }\n",
       "\n",
       "    .dataframe thead th {\n",
       "        text-align: right;\n",
       "    }\n",
       "</style>\n",
       "<table border=\"1\" class=\"dataframe\">\n",
       "  <thead>\n",
       "    <tr style=\"text-align: right;\">\n",
       "      <th></th>\n",
       "      <th>AnnualIncome</th>\n",
       "      <th>SpendingScore</th>\n",
       "    </tr>\n",
       "  </thead>\n",
       "  <tbody>\n",
       "    <tr>\n",
       "      <th>0</th>\n",
       "      <td>-0.869761</td>\n",
       "      <td>-0.135877</td>\n",
       "    </tr>\n",
       "    <tr>\n",
       "      <th>1</th>\n",
       "      <td>-0.838899</td>\n",
       "      <td>-0.033387</td>\n",
       "    </tr>\n",
       "    <tr>\n",
       "      <th>2</th>\n",
       "      <td>-0.808036</td>\n",
       "      <td>0.069103</td>\n",
       "    </tr>\n",
       "    <tr>\n",
       "      <th>3</th>\n",
       "      <td>-0.777174</td>\n",
       "      <td>0.171594</td>\n",
       "    </tr>\n",
       "    <tr>\n",
       "      <th>4</th>\n",
       "      <td>-0.746311</td>\n",
       "      <td>0.274084</td>\n",
       "    </tr>\n",
       "  </tbody>\n",
       "</table>\n",
       "</div>"
      ],
      "text/plain": [
       "   AnnualIncome  SpendingScore\n",
       "0     -0.869761      -0.135877\n",
       "1     -0.838899      -0.033387\n",
       "2     -0.808036       0.069103\n",
       "3     -0.777174       0.171594\n",
       "4     -0.746311       0.274084"
      ]
     },
     "execution_count": 8,
     "metadata": {},
     "output_type": "execute_result"
    }
   ],
   "source": [
    "scaler = StandardScaler()\n",
    "df_scaled = scaler.fit_transform(df)\n",
    "\n",
    "# Convert the scaled data back into a DataFrame for easier handling\n",
    "df_scaled = pd.DataFrame(df_scaled, columns=['AnnualIncome', 'SpendingScore'])\n",
    "df_scaled.head()"
   ]
  },
  {
   "cell_type": "markdown",
   "metadata": {},
   "source": [
    "### Implementing k-means clustering\n",
    "Now it’s time to implement the k-means clustering algorithm. First, we’ll initialize the algorithm with a predefined number of clusters (k), fit it to the data, and then assign each data point to a cluster."
   ]
  },
  {
   "cell_type": "code",
   "execution_count": 9,
   "metadata": {},
   "outputs": [
    {
     "data": {
      "text/html": [
       "<div>\n",
       "<style scoped>\n",
       "    .dataframe tbody tr th:only-of-type {\n",
       "        vertical-align: middle;\n",
       "    }\n",
       "\n",
       "    .dataframe tbody tr th {\n",
       "        vertical-align: top;\n",
       "    }\n",
       "\n",
       "    .dataframe thead th {\n",
       "        text-align: right;\n",
       "    }\n",
       "</style>\n",
       "<table border=\"1\" class=\"dataframe\">\n",
       "  <thead>\n",
       "    <tr style=\"text-align: right;\">\n",
       "      <th></th>\n",
       "      <th>AnnualIncome</th>\n",
       "      <th>SpendingScore</th>\n",
       "      <th>Cluster</th>\n",
       "    </tr>\n",
       "  </thead>\n",
       "  <tbody>\n",
       "    <tr>\n",
       "      <th>0</th>\n",
       "      <td>15.0</td>\n",
       "      <td>39</td>\n",
       "      <td>0</td>\n",
       "    </tr>\n",
       "    <tr>\n",
       "      <th>1</th>\n",
       "      <td>15.5</td>\n",
       "      <td>42</td>\n",
       "      <td>0</td>\n",
       "    </tr>\n",
       "    <tr>\n",
       "      <th>2</th>\n",
       "      <td>16.0</td>\n",
       "      <td>45</td>\n",
       "      <td>0</td>\n",
       "    </tr>\n",
       "    <tr>\n",
       "      <th>3</th>\n",
       "      <td>16.5</td>\n",
       "      <td>48</td>\n",
       "      <td>0</td>\n",
       "    </tr>\n",
       "    <tr>\n",
       "      <th>4</th>\n",
       "      <td>17.0</td>\n",
       "      <td>51</td>\n",
       "      <td>0</td>\n",
       "    </tr>\n",
       "  </tbody>\n",
       "</table>\n",
       "</div>"
      ],
      "text/plain": [
       "   AnnualIncome  SpendingScore  Cluster\n",
       "0          15.0             39        0\n",
       "1          15.5             42        0\n",
       "2          16.0             45        0\n",
       "3          16.5             48        0\n",
       "4          17.0             51        0"
      ]
     },
     "execution_count": 9,
     "metadata": {},
     "output_type": "execute_result"
    }
   ],
   "source": [
    "k = 3\n",
    "kmeans = KMeans(n_clusters=k, random_state=47)\n",
    "\n",
    "kmeans.fit(df_scaled)\n",
    "df['Cluster'] = kmeans.labels_\n",
    "\n",
    "# Display the first few rows with cluster assignments\n",
    "df.head()"
   ]
  },
  {
   "cell_type": "markdown",
   "metadata": {},
   "source": [
    "k: The number of clusters. You can start with an arbitrary value of k = 3 and later evaluate the performance to choose the best number of clusters.\n",
    "\n",
    "kmeans.labels_: The labels assigned to each data point, indicating the cluster they belong to."
   ]
  },
  {
   "cell_type": "markdown",
   "metadata": {},
   "source": [
    "### Visualizing the clusters\n",
    "\n",
    "Now that we’ve clustered the data, let’s visualize the clusters using a scatterplot. We’ll color the data points based on their assigned cluster"
   ]
  },
  {
   "cell_type": "code",
   "execution_count": 10,
   "metadata": {},
   "outputs": [
    {
     "data": {
      "image/png": "[encoded data removed]",
      "text/plain": [
       "<Figure size 640x480 with 1 Axes>"
      ]
     },
     "metadata": {},
     "output_type": "display_data"
    }
   ],
   "source": [
    "# Plot the clusters\n",
    "plt.scatter(df['AnnualIncome'], df['SpendingScore'], c=df['Cluster'], cmap='viridis')\n",
    "plt.title('K-Means Clustering of Customers')\n",
    "plt.xlabel('Annual Income (in thousands)')\n",
    "plt.ylabel('Spending Score (1-100)')\n",
    "plt.show()"
   ]
  },
  {
   "cell_type": "markdown",
   "metadata": {},
   "source": [
    "### Finding the optimal number of clusters\n",
    " One way to determine the optimal number of clusters (k) is by using the elbow method, which involves plotting the *within-cluster sum of squares* (WCSS) against the number of clusters"
   ]
  },
  {
   "cell_type": "code",
   "execution_count": 12,
   "metadata": {},
   "outputs": [
    {
     "data": {
      "image/png": "[encoded data removed]",
      "text/plain": [
       "<Figure size 640x480 with 1 Axes>"
      ]
     },
     "metadata": {},
     "output_type": "display_data"
    }
   ],
   "source": [
    "wcss = []\n",
    "ranged = range(1,10)\n",
    "for i in ranged:\n",
    "    kmeans = KMeans(n_clusters=i, random_state=42)\n",
    "    kmeans.fit(df_scaled)\n",
    "    wcss.append(kmeans.inertia_)\n",
    "\n",
    "# Plot the WCSS to visualize the Elbow\n",
    "plt.plot(ranged, wcss, marker='o')\n",
    "plt.title('Elbow Method for Optimal k')\n",
    "plt.xlabel('Number of Clusters')\n",
    "plt.ylabel('WCSS')\n",
    "plt.show()"
   ]
  },
  {
   "cell_type": "markdown",
   "metadata": {},
   "source": [
    "The elbow method helps determine the optimal k by identifying the point where the WCSS stops decreasing significantly, forming an \"elbow\" in the graph."
   ]
  },
  {
   "cell_type": "code",
   "execution_count": null,
   "metadata": {},
   "outputs": [],
   "source": []
  }
 ],
 "metadata": {
  "kernelspec": {
   "display_name": ".venv",
   "language": "python",
   "name": "python3"
  },
  "language_info": {
   "codemirror_mode": {
    "name": "ipython",
    "version": 3
   },
   "file_extension": ".py",
   "mimetype": "text/x-python",
   "name": "python",
   "nbconvert_exporter": "python",
   "pygments_lexer": "ipython3",
   "version": "3.10.6"
  }
 },
 "nbformat": 4,
 "nbformat_minor": 2
}
